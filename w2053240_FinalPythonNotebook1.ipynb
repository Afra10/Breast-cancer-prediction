{
  "nbformat": 4,
  "nbformat_minor": 0,
  "metadata": {
    "colab": {
      "provenance": []
    },
    "kernelspec": {
      "name": "python3",
      "display_name": "Python 3"
    },
    "language_info": {
      "name": "python"
    }
  },
  "cells": [
    {
      "cell_type": "markdown",
      "source": [],
      "metadata": {
        "id": "MFb0-6oPrayM"
      }
    },
    {
      "cell_type": "code",
      "source": [],
      "metadata": {
        "id": "tM07OZQ_wDM6"
      },
      "execution_count": null,
      "outputs": []
    },
    {
      "cell_type": "markdown",
      "source": [
        "W2053240\n",
        "Fathima Afra"
      ],
      "metadata": {
        "id": "a_6QsaqmrbpN"
      }
    },
    {
      "cell_type": "code",
      "execution_count": 1,
      "metadata": {
        "id": "5cNY1i_GWg_D"
      },
      "outputs": [],
      "source": [
        "import pandas as pd\n",
        "import numpy as np\n",
        "import matplotlib.pyplot as plt\n",
        "from sklearn.preprocessing import StandardScaler, LabelEncoder\n",
        "import warnings\n",
        "warnings.filterwarnings('ignore')"
      ]
    },
    {
      "cell_type": "code",
      "source": [
        "# Display settings\n",
        "pd.set_option('display.max_rows', 500)\n",
        "pd.set_option('display.max_columns', 500)\n",
        "pd.set_option('display.width', 150)"
      ],
      "metadata": {
        "id": "p7PNNMLhWzXx"
      },
      "execution_count": 2,
      "outputs": []
    },
    {
      "cell_type": "code",
      "source": [
        "# Load the data\n",
        "data = pd.read_csv('/content/5DATA002W.2 Coursework Dataset(25012025v6.0) (2).csv')"
      ],
      "metadata": {
        "id": "uwD15R4xW0hd"
      },
      "execution_count": 3,
      "outputs": []
    },
    {
      "cell_type": "code",
      "source": [
        "# Display sample records\n",
        "print(\"Sample records from the dataset:\")\n",
        "print(data.head(10))"
      ],
      "metadata": {
        "colab": {
          "base_uri": "https://localhost:8080/"
        },
        "id": "yDgTh4uMW3Uu",
        "outputId": "8ee2e25e-22ca-4841-a0c3-9398a1a44280"
      },
      "execution_count": 4,
      "outputs": [
        {
          "output_type": "stream",
          "name": "stdout",
          "text": [
            "Sample records from the dataset:\n",
            "  Patient_ID  Month_of_Birth   Age     Sex    Occupation T_Stage N_Stage 6th_Stage             Differentiated  Grade   A_Stage  Tumor_Size  \\\n",
            "0      A0012              12  68.0  Female      Teaching      T1      N1       IIA      Poorly differentiated      3  Regional         4.0   \n",
            "1      A0013              12  50.0  Female       Medical      T2      N2      IIIA  Moderately differentiated      2  Regional        35.0   \n",
            "2      A0014              11  58.0  Female   Engineering      T3      N3      IIIC  Moderately differentiated      2  Regional        63.0   \n",
            "3      A0015               3  58.0  Female    Technology      T1      N1       IIA      Poorly differentiated      3  Regional        18.0   \n",
            "4      A0016               1  47.0  Female    Multimedia      T2      N1       IIB      Poorly differentiated      3  Regional        41.0   \n",
            "5      A0017               2  51.0  Female      Research      T1      N1       IIA  Moderately differentiated      2  Regional        20.0   \n",
            "6      A0018               5  51.0  Female  House Person      T1      N1       IIA        Well differentiated      1  Regional         8.0   \n",
            "7      A0019               4  40.0  Female     Reporting      T2      N1       IIB  Moderately differentiated      2  Regional        30.0   \n",
            "8      A0020               6  40.0  Female   Development      T4      N3      IIIC      Poorly differentiated      3  Regional       103.0   \n",
            "9      A0021               4  69.0  Female  Construction      T4      N3      IIIC        Well differentiated      1   Distant        32.0   \n",
            "\n",
            "  Estrogen_Status Progesterone_Status  Regional_Node_Examined  Reginol_Node_Positive  Survival_Months Mortality_Status  \n",
            "0        Positive            Positive                    24.0                      1               60            Alive  \n",
            "1        Positive            Positive                    14.0                      5               62            Alive  \n",
            "2        Positive            Positive                    14.0                      7               75            Alive  \n",
            "3        Positive            Positive                     2.0                      1               84            Alive  \n",
            "4        Positive            Positive                     3.0                      1               50            Alive  \n",
            "5        Positive            Positive                    18.0                      2               89            Alive  \n",
            "6        Positive            Positive                    11.0                      1               54            Alive  \n",
            "7        Positive            Positive                     9.0                      1               14             Dead  \n",
            "8        Positive            Positive                    20.0                     18               70            Alive  \n",
            "9        Positive            Positive                    21.0                     12               92            Alive  \n"
          ]
        }
      ]
    },
    {
      "cell_type": "code",
      "source": [
        "# Display variable names\n",
        "print(\"\\nVariable names in the dataset:\")\n",
        "print(list(data.columns))\n"
      ],
      "metadata": {
        "colab": {
          "base_uri": "https://localhost:8080/"
        },
        "id": "6xbIUJQXW-KC",
        "outputId": "72cd36b8-6fe8-4930-d958-26ac8e54ed76"
      },
      "execution_count": 5,
      "outputs": [
        {
          "output_type": "stream",
          "name": "stdout",
          "text": [
            "\n",
            "Variable names in the dataset:\n",
            "['Patient_ID', 'Month_of_Birth', 'Age', 'Sex', 'Occupation', 'T_Stage', 'N_Stage', '6th_Stage', 'Differentiated', 'Grade', 'A_Stage', 'Tumor_Size', 'Estrogen_Status', 'Progesterone_Status', 'Regional_Node_Examined', 'Reginol_Node_Positive', 'Survival_Months', 'Mortality_Status']\n"
          ]
        }
      ]
    },
    {
      "cell_type": "code",
      "source": [
        "# Rename Regional_Node_Examined to Reginol_Node_Examined as in your code\n",
        "data.rename(columns={\n",
        "    'Regional_Node_Examined': 'Reginol_Node_Examined',\n",
        "}, inplace=True)"
      ],
      "metadata": {
        "id": "gc90XyBIXB70"
      },
      "execution_count": 6,
      "outputs": []
    },
    {
      "cell_type": "code",
      "source": [
        "print(\"\\nVariable names in the dataset after renaming:\")\n",
        "print(list(data.columns))\n"
      ],
      "metadata": {
        "colab": {
          "base_uri": "https://localhost:8080/"
        },
        "id": "MciV8-RaXFYS",
        "outputId": "9a875c5a-84c2-42fa-b4d3-e49e56ad29e5"
      },
      "execution_count": 7,
      "outputs": [
        {
          "output_type": "stream",
          "name": "stdout",
          "text": [
            "\n",
            "Variable names in the dataset after renaming:\n",
            "['Patient_ID', 'Month_of_Birth', 'Age', 'Sex', 'Occupation', 'T_Stage', 'N_Stage', '6th_Stage', 'Differentiated', 'Grade', 'A_Stage', 'Tumor_Size', 'Estrogen_Status', 'Progesterone_Status', 'Reginol_Node_Examined', 'Reginol_Node_Positive', 'Survival_Months', 'Mortality_Status']\n"
          ]
        }
      ]
    },
    {
      "cell_type": "code",
      "source": [
        "# Display data info\n",
        "print(\"\\nData types and non-null values in the dataset:\")\n",
        "data.info()"
      ],
      "metadata": {
        "colab": {
          "base_uri": "https://localhost:8080/"
        },
        "id": "0JPu2mS4XIuo",
        "outputId": "a42b41b7-2f6e-450e-cf6f-452e1e5bff19"
      },
      "execution_count": 8,
      "outputs": [
        {
          "output_type": "stream",
          "name": "stdout",
          "text": [
            "\n",
            "Data types and non-null values in the dataset:\n",
            "<class 'pandas.core.frame.DataFrame'>\n",
            "RangeIndex: 4024 entries, 0 to 4023\n",
            "Data columns (total 18 columns):\n",
            " #   Column                 Non-Null Count  Dtype  \n",
            "---  ------                 --------------  -----  \n",
            " 0   Patient_ID             4024 non-null   object \n",
            " 1   Month_of_Birth         4024 non-null   int64  \n",
            " 2   Age                    4015 non-null   float64\n",
            " 3   Sex                    4020 non-null   object \n",
            " 4   Occupation             43 non-null     object \n",
            " 5   T_Stage                4024 non-null   object \n",
            " 6   N_Stage                4024 non-null   object \n",
            " 7   6th_Stage              4024 non-null   object \n",
            " 8   Differentiated         4024 non-null   object \n",
            " 9   Grade                  4024 non-null   int64  \n",
            " 10  A_Stage                4024 non-null   object \n",
            " 11  Tumor_Size             4021 non-null   float64\n",
            " 12  Estrogen_Status        4024 non-null   object \n",
            " 13  Progesterone_Status    4024 non-null   object \n",
            " 14  Reginol_Node_Examined  4023 non-null   float64\n",
            " 15  Reginol_Node_Positive  4024 non-null   int64  \n",
            " 16  Survival_Months        4024 non-null   int64  \n",
            " 17  Mortality_Status       4024 non-null   object \n",
            "dtypes: float64(3), int64(4), object(11)\n",
            "memory usage: 566.0+ KB\n"
          ]
        }
      ]
    },
    {
      "cell_type": "code",
      "source": [
        "\n",
        "print(\"\\nDimensions of the dataset (rows, columns):\")\n",
        "print(data.shape)"
      ],
      "metadata": {
        "colab": {
          "base_uri": "https://localhost:8080/"
        },
        "id": "JFPaPI8oX4Wf",
        "outputId": "c4ae6ef2-90f3-497c-a524-c9bcbd77e280"
      },
      "execution_count": 9,
      "outputs": [
        {
          "output_type": "stream",
          "name": "stdout",
          "text": [
            "\n",
            "Dimensions of the dataset (rows, columns):\n",
            "(4024, 18)\n"
          ]
        }
      ]
    },
    {
      "cell_type": "code",
      "source": [
        "print(\"\\nDescriptive statistics for numeric variables:\")\n",
        "print(data.describe())\n"
      ],
      "metadata": {
        "colab": {
          "base_uri": "https://localhost:8080/"
        },
        "id": "joXwn5W7X7QO",
        "outputId": "63beb477-7f2f-46dc-fe50-bb62badd77ca"
      },
      "execution_count": 10,
      "outputs": [
        {
          "output_type": "stream",
          "name": "stdout",
          "text": [
            "\n",
            "Descriptive statistics for numeric variables:\n",
            "       Month_of_Birth          Age        Grade   Tumor_Size  Reginol_Node_Examined  Reginol_Node_Positive  Survival_Months\n",
            "count     4024.000000  4015.000000  4024.000000  4021.000000            4023.000000            4024.000000      4024.000000\n",
            "mean         6.481362    54.107098     2.150596    30.419299              14.373602               4.158052        71.472167\n",
            "std          3.475442    11.715528     0.638234    21.161080               8.129293               5.109331        25.361855\n",
            "min          1.000000   -50.000000     1.000000   -75.000000               1.000000               1.000000         1.000000\n",
            "25%          3.000000    47.000000     2.000000    16.000000               9.000000               1.000000        56.000000\n",
            "50%          6.000000    54.000000     2.000000    25.000000              14.000000               2.000000        73.000000\n",
            "75%         10.000000    61.000000     3.000000    38.000000              19.000000               5.000000        90.000000\n",
            "max         12.000000   502.000000     4.000000   140.000000              61.000000              46.000000       760.000000\n"
          ]
        }
      ]
    },
    {
      "cell_type": "code",
      "source": [
        "\n",
        "print(\"\\nDescriptive statistics for categorical variables:\")\n",
        "print(data.describe(include='object'))\n"
      ],
      "metadata": {
        "colab": {
          "base_uri": "https://localhost:8080/"
        },
        "id": "8nZINXVIYEPN",
        "outputId": "12767b4e-ed98-4d36-88cd-d7ad33af70ab"
      },
      "execution_count": 11,
      "outputs": [
        {
          "output_type": "stream",
          "name": "stdout",
          "text": [
            "\n",
            "Descriptive statistics for categorical variables:\n",
            "       Patient_ID     Sex    Occupation T_Stage N_Stage 6th_Stage             Differentiated   A_Stage Estrogen_Status Progesterone_Status  \\\n",
            "count        4024    4020            43    4024    4024      4024                       4024      4024            4024                4024   \n",
            "unique       4024       2            40       4       3         5                          4         2               2                   2   \n",
            "top         A4035  Female  House Person      T2      N1       IIA  Moderately differentiated  Regional        Positive            Positive   \n",
            "freq            1    4001             2    1786    2732      1305                       2351      3932            3755                3326   \n",
            "\n",
            "       Mortality_Status  \n",
            "count              4024  \n",
            "unique                7  \n",
            "top               Alive  \n",
            "freq               3399  \n"
          ]
        }
      ]
    },
    {
      "cell_type": "code",
      "source": [
        "# Examine unique values of categorical variables\n",
        "categorical_columns = data.select_dtypes(include=['object']).columns\n",
        "for col in categorical_columns:\n",
        "    print(f\"\\nUnique values for {col}:\")\n",
        "    print(data[col].unique())"
      ],
      "metadata": {
        "colab": {
          "base_uri": "https://localhost:8080/"
        },
        "id": "ZFHQZ7oxYHvg",
        "outputId": "235b4117-d05a-4232-e549-455b36ecc7d3"
      },
      "execution_count": 12,
      "outputs": [
        {
          "output_type": "stream",
          "name": "stdout",
          "text": [
            "\n",
            "Unique values for Patient_ID:\n",
            "['A0012' 'A0013' 'A0014' ... 'A4033' 'A4034' 'A4035']\n",
            "\n",
            "Unique values for Sex:\n",
            "['Female' '1' nan]\n",
            "\n",
            "Unique values for Occupation:\n",
            "['Teaching' 'Medical' 'Engineering' 'Technology' 'Multimedia' 'Research'\n",
            " 'House Person' 'Reporting' 'Development' 'Construction' 'Leisure'\n",
            " 'Scoial work' 'Trading' 'Consultancy' 'Driving' 'Planning' 'Hospitality'\n",
            " 'Travel' 'Agriculture' 'Manufacturing' 'Photography' 'Finance' 'Business'\n",
            " 'Marketing' 'Training' 'Cleaning' 'Legal' 'Healthcare' 'Military' 'Sales'\n",
            " 'Entertainment' 'Sports' 'Arts' 'Design' 'Maintenance' 'Management'\n",
            " 'Human Resources' 'Administrative' 'Public' 'Politics' nan]\n",
            "\n",
            "Unique values for T_Stage:\n",
            "['T1' 'T2' 'T3' 'T4']\n",
            "\n",
            "Unique values for N_Stage:\n",
            "['N1' 'N2' 'N3']\n",
            "\n",
            "Unique values for 6th_Stage:\n",
            "['IIA' 'IIIA' 'IIIC' 'IIB' 'IIIB']\n",
            "\n",
            "Unique values for Differentiated:\n",
            "['Poorly differentiated' 'Moderately differentiated' 'Well differentiated'\n",
            " 'Undifferentiated']\n",
            "\n",
            "Unique values for A_Stage:\n",
            "['Regional' 'Distant']\n",
            "\n",
            "Unique values for Estrogen_Status:\n",
            "['Positive' 'Negative']\n",
            "\n",
            "Unique values for Progesterone_Status:\n",
            "['Positive' 'Negative']\n",
            "\n",
            "Unique values for Mortality_Status:\n",
            "['Alive' 'Dead' 'ALIVE' 'DEAD' 'ALive' 'alive' 'dead']\n"
          ]
        }
      ]
    },
    {
      "cell_type": "code",
      "source": [
        "\n",
        "\n",
        "# Check missing values\n",
        "print(\"\\nCount of missing values per variable:\")\n",
        "print(data.isnull().sum())"
      ],
      "metadata": {
        "colab": {
          "base_uri": "https://localhost:8080/"
        },
        "id": "X4kf6etTYLHu",
        "outputId": "d0e5b15e-7da0-4ad9-e9e9-8d8760a78505"
      },
      "execution_count": 13,
      "outputs": [
        {
          "output_type": "stream",
          "name": "stdout",
          "text": [
            "\n",
            "Count of missing values per variable:\n",
            "Patient_ID                  0\n",
            "Month_of_Birth              0\n",
            "Age                         9\n",
            "Sex                         4\n",
            "Occupation               3981\n",
            "T_Stage                     0\n",
            "N_Stage                     0\n",
            "6th_Stage                   0\n",
            "Differentiated              0\n",
            "Grade                       0\n",
            "A_Stage                     0\n",
            "Tumor_Size                  3\n",
            "Estrogen_Status             0\n",
            "Progesterone_Status         0\n",
            "Reginol_Node_Examined       1\n",
            "Reginol_Node_Positive       0\n",
            "Survival_Months             0\n",
            "Mortality_Status            0\n",
            "dtype: int64\n"
          ]
        }
      ]
    },
    {
      "cell_type": "code",
      "source": [
        "print(\"\\nPercentage of missing values per variable:\")\n",
        "print(data.isna().sum()/len(data)*100)"
      ],
      "metadata": {
        "colab": {
          "base_uri": "https://localhost:8080/"
        },
        "id": "83cvbVDEYQAj",
        "outputId": "c2650666-26a8-4793-fffc-9db9ecd85e47"
      },
      "execution_count": 14,
      "outputs": [
        {
          "output_type": "stream",
          "name": "stdout",
          "text": [
            "\n",
            "Percentage of missing values per variable:\n",
            "Patient_ID                0.000000\n",
            "Month_of_Birth            0.000000\n",
            "Age                       0.223658\n",
            "Sex                       0.099404\n",
            "Occupation               98.931412\n",
            "T_Stage                   0.000000\n",
            "N_Stage                   0.000000\n",
            "6th_Stage                 0.000000\n",
            "Differentiated            0.000000\n",
            "Grade                     0.000000\n",
            "A_Stage                   0.000000\n",
            "Tumor_Size                0.074553\n",
            "Estrogen_Status           0.000000\n",
            "Progesterone_Status       0.000000\n",
            "Reginol_Node_Examined     0.024851\n",
            "Reginol_Node_Positive     0.000000\n",
            "Survival_Months           0.000000\n",
            "Mortality_Status          0.000000\n",
            "dtype: float64\n"
          ]
        }
      ]
    },
    {
      "cell_type": "code",
      "source": [
        "# Drop unnecessary columns\n",
        "data_cleaned = data.drop(columns=['Month_of_Birth','Patient_ID', 'Sex', 'Occupation'])\n",
        "print(\"\\nShape after dropping unnecessary columns:\", data_cleaned.shape)\n",
        "print(\"\\nRemaining columns:\", list(data_cleaned.columns))"
      ],
      "metadata": {
        "colab": {
          "base_uri": "https://localhost:8080/"
        },
        "id": "DaCpY0zBYTb9",
        "outputId": "d120fcf5-de91-4742-b89d-3a7a2032f357"
      },
      "execution_count": 15,
      "outputs": [
        {
          "output_type": "stream",
          "name": "stdout",
          "text": [
            "\n",
            "Shape after dropping unnecessary columns: (4024, 14)\n",
            "\n",
            "Remaining columns: ['Age', 'T_Stage', 'N_Stage', '6th_Stage', 'Differentiated', 'Grade', 'A_Stage', 'Tumor_Size', 'Estrogen_Status', 'Progesterone_Status', 'Reginol_Node_Examined', 'Reginol_Node_Positive', 'Survival_Months', 'Mortality_Status']\n"
          ]
        }
      ]
    },
    {
      "cell_type": "code",
      "source": [
        "\n",
        "# Plot distribution of Mortality Status\n",
        "plt.figure(figsize=(8, 6))\n",
        "data_cleaned['Mortality_Status'].value_counts().plot(kind='bar')\n",
        "plt.title('Distribution of Mortality Status')\n",
        "plt.xlabel('Status')\n",
        "plt.ylabel('Count')\n",
        "plt.xticks(rotation=0)\n",
        "plt.grid(axis='y', alpha=0.3)\n",
        "plt.show()\n"
      ],
      "metadata": {
        "colab": {
          "base_uri": "https://localhost:8080/",
          "height": 537
        },
        "id": "WwnH2c9XYdd1",
        "outputId": "371dc1fc-1f16-4750-fd15-05069579d718"
      },
      "execution_count": 16,
      "outputs": [
        {
          "output_type": "display_data",
          "data": {
            "text/plain": [
              "<Figure size 800x600 with 1 Axes>"
            ],
            "image/png": "[encoded data removed]"
          },
          "metadata": {}
        }
      ]
    },
    {
      "cell_type": "code",
      "source": [
        "# Numerical variables for analysis\n",
        "numerical_vars = ['Age', 'Tumor_Size', 'Reginol_Node_Examined', 'Reginol_Node_Positive', 'Survival_Months']"
      ],
      "metadata": {
        "id": "0wXy3f5dYjJ0"
      },
      "execution_count": 17,
      "outputs": []
    },
    {
      "cell_type": "code",
      "source": [
        "\n",
        "# Box plots for numerical variables\n",
        "plt.figure(figsize=(16, 10))\n",
        "for i, var in enumerate(numerical_vars):\n",
        "    plt.subplot(2, 3, i+1)\n",
        "    plt.boxplot(data_cleaned[var].dropna())\n",
        "    plt.title(f'Boxplot of {var}')\n",
        "    plt.grid(True, alpha=0.3)\n",
        "plt.tight_layout()\n",
        "plt.show()\n"
      ],
      "metadata": {
        "colab": {
          "base_uri": "https://localhost:8080/",
          "height": 1000
        },
        "id": "LD-P_ncyYmdU",
        "outputId": "5dd6e051-b16f-4404-d125-e5c5b50f91df"
      },
      "execution_count": 18,
      "outputs": [
        {
          "output_type": "display_data",
          "data": {
            "text/plain": [
              "<Figure size 1600x1000 with 5 Axes>"
            ],
            "image/png": "[encoded data removed]"
          },
          "metadata": {}
        }
      ]
    },
    {
      "cell_type": "code",
      "source": [
        "# Function to find outliers using IQR method\n",
        "def find_outliers_IQR(variable):\n",
        "    q1 = variable.quantile(0.25)\n",
        "    q3 = variable.quantile(0.75)\n",
        "    IQR = q3 - q1\n",
        "    lower_bound = q1 - 1.5 * IQR\n",
        "    upper_bound = q3 + 1.5 * IQR\n",
        "    outliers = variable[(variable < lower_bound) | (variable > upper_bound)]\n",
        "    print(outliers,lower_bound,upper_bound)\n",
        "    return outliers, lower_bound, upper_bound\n"
      ],
      "metadata": {
        "id": "GTFZEYY3Yp0h"
      },
      "execution_count": 19,
      "outputs": []
    },
    {
      "cell_type": "code",
      "source": [
        "\n",
        "# Find outliers in numerical variables\n",
        "for var in numerical_vars:\n",
        "    outliers, lower_bound, upper_bound = find_outliers_IQR(data_cleaned[var])\n",
        "    print(f\"\\nOutliers in {var}:\")\n",
        "    print(f\"Number of outliers: {len(outliers)}\")\n",
        "    print(f\"Lower bound: {lower_bound}, Upper bound: {upper_bound}\")\n",
        "    if len(outliers) > 0:\n",
        "        print(\"Sample of outliers:\", outliers.head(5) if len(outliers) > 5 else outliers)"
      ],
      "metadata": {
        "colab": {
          "base_uri": "https://localhost:8080/"
        },
        "id": "J2ZATysxZFkN",
        "outputId": "00d6640b-8710-4f69-d3d4-d03ec8dd820c"
      },
      "execution_count": 20,
      "outputs": [
        {
          "output_type": "stream",
          "name": "stdout",
          "text": [
            "142    180.0\n",
            "212    -50.0\n",
            "522    502.0\n",
            "842     89.0\n",
            "Name: Age, dtype: float64 26.0 82.0\n",
            "\n",
            "Outliers in Age:\n",
            "Number of outliers: 4\n",
            "Lower bound: 26.0, Upper bound: 82.0\n",
            "Sample of outliers: 142    180.0\n",
            "212    -50.0\n",
            "522    502.0\n",
            "842     89.0\n",
            "Name: Age, dtype: float64\n",
            "8       103.0\n",
            "52      120.0\n",
            "53       77.0\n",
            "63       75.0\n",
            "70      130.0\n",
            "86      120.0\n",
            "87       80.0\n",
            "116      76.0\n",
            "147      72.0\n",
            "155     100.0\n",
            "184     100.0\n",
            "194      75.0\n",
            "210     -75.0\n",
            "215      85.0\n",
            "219      75.0\n",
            "220      72.0\n",
            "238     120.0\n",
            "254     110.0\n",
            "276     105.0\n",
            "277     100.0\n",
            "289     140.0\n",
            "305     130.0\n",
            "316      80.0\n",
            "318     100.0\n",
            "322      80.0\n",
            "337      90.0\n",
            "362      80.0\n",
            "367     100.0\n",
            "371     108.0\n",
            "376      98.0\n",
            "379      90.0\n",
            "401      90.0\n",
            "426      75.0\n",
            "441     120.0\n",
            "447      80.0\n",
            "476      74.0\n",
            "480     100.0\n",
            "483      80.0\n",
            "525     100.0\n",
            "526     130.0\n",
            "540      87.0\n",
            "564      80.0\n",
            "585      81.0\n",
            "593      80.0\n",
            "602      80.0\n",
            "630      80.0\n",
            "691     100.0\n",
            "705     117.0\n",
            "713      76.0\n",
            "740     140.0\n",
            "769      90.0\n",
            "828      80.0\n",
            "874     123.0\n",
            "877      75.0\n",
            "889     130.0\n",
            "893     110.0\n",
            "894     133.0\n",
            "897      95.0\n",
            "906     107.0\n",
            "909      90.0\n",
            "922      92.0\n",
            "937     100.0\n",
            "938     105.0\n",
            "971     105.0\n",
            "985     100.0\n",
            "1007    140.0\n",
            "1095     82.0\n",
            "1122     80.0\n",
            "1159     85.0\n",
            "1161    100.0\n",
            "1193     90.0\n",
            "1196    120.0\n",
            "1225    120.0\n",
            "1272     74.0\n",
            "1289     80.0\n",
            "1316    100.0\n",
            "1321     76.0\n",
            "1346     80.0\n",
            "1355     80.0\n",
            "1369     75.0\n",
            "1375     82.0\n",
            "1396     80.0\n",
            "1462     80.0\n",
            "1473     72.0\n",
            "1479    120.0\n",
            "1512    140.0\n",
            "1522     80.0\n",
            "1531     95.0\n",
            "1540     90.0\n",
            "1623    100.0\n",
            "1668     80.0\n",
            "1682    120.0\n",
            "1685     90.0\n",
            "1716     75.0\n",
            "1739     90.0\n",
            "1785     78.0\n",
            "1799     97.0\n",
            "1812     88.0\n",
            "1870     85.0\n",
            "1879     90.0\n",
            "1881    100.0\n",
            "1887     74.0\n",
            "1915     80.0\n",
            "1955     80.0\n",
            "1992     80.0\n",
            "2007     80.0\n",
            "2028     85.0\n",
            "2038     80.0\n",
            "2039     90.0\n",
            "2045    110.0\n",
            "2055     83.0\n",
            "2058     80.0\n",
            "2068     80.0\n",
            "2085     75.0\n",
            "2094     81.0\n",
            "2107     78.0\n",
            "2137     85.0\n",
            "2147     80.0\n",
            "2157     75.0\n",
            "2165     75.0\n",
            "2176    110.0\n",
            "2218    101.0\n",
            "2223     75.0\n",
            "2226     84.0\n",
            "2228     90.0\n",
            "2240    100.0\n",
            "2249     90.0\n",
            "2265     90.0\n",
            "2273     90.0\n",
            "2278     95.0\n",
            "2283    100.0\n",
            "2300     75.0\n",
            "2304     92.0\n",
            "2339    130.0\n",
            "2340     75.0\n",
            "2355     85.0\n",
            "2359     83.0\n",
            "2367     76.0\n",
            "2380     97.0\n",
            "2412     75.0\n",
            "2442    115.0\n",
            "2480    100.0\n",
            "2484     73.0\n",
            "2502     85.0\n",
            "2506    120.0\n",
            "2532     80.0\n",
            "2563     90.0\n",
            "2594     85.0\n",
            "2600     80.0\n",
            "2612     74.0\n",
            "2623     80.0\n",
            "2638     75.0\n",
            "2669     75.0\n",
            "2670     90.0\n",
            "2672    120.0\n",
            "2684     77.0\n",
            "2694    125.0\n",
            "2697     75.0\n",
            "2700     90.0\n",
            "2739    100.0\n",
            "2744     85.0\n",
            "2748     80.0\n",
            "2759    104.0\n",
            "2767    100.0\n",
            "2793     75.0\n",
            "2830    100.0\n",
            "2872     83.0\n",
            "2882     80.0\n",
            "2906     80.0\n",
            "2909     90.0\n",
            "2910     80.0\n",
            "2939     75.0\n",
            "2996     78.0\n",
            "3011     80.0\n",
            "3014     80.0\n",
            "3019     90.0\n",
            "3110    100.0\n",
            "3135     90.0\n",
            "3190     90.0\n",
            "3199     90.0\n",
            "3204     72.0\n",
            "3220    101.0\n",
            "3231    100.0\n",
            "3253     80.0\n",
            "3257     80.0\n",
            "3287     94.0\n",
            "3309     80.0\n",
            "3374     84.0\n",
            "3392     74.0\n",
            "3394     76.0\n",
            "3399    120.0\n",
            "3500     72.0\n",
            "3503     90.0\n",
            "3509     86.0\n",
            "3554     95.0\n",
            "3574     75.0\n",
            "3575    100.0\n",
            "3578     75.0\n",
            "3582     85.0\n",
            "3591    120.0\n",
            "3594     90.0\n",
            "3616     90.0\n",
            "3620     82.0\n",
            "3627     80.0\n",
            "3707    100.0\n",
            "3734    120.0\n",
            "3754     75.0\n",
            "3775    120.0\n",
            "3839     80.0\n",
            "3871     80.0\n",
            "3888     96.0\n",
            "3893     75.0\n",
            "3902     80.0\n",
            "3909     79.0\n",
            "3910     95.0\n",
            "3925     80.0\n",
            "3930    120.0\n",
            "3965    140.0\n",
            "3991     90.0\n",
            "4009    100.0\n",
            "4012     80.0\n",
            "Name: Tumor_Size, dtype: float64 -17.0 71.0\n",
            "\n",
            "Outliers in Tumor_Size:\n",
            "Number of outliers: 221\n",
            "Lower bound: -17.0, Upper bound: 71.0\n",
            "Sample of outliers: 8     103.0\n",
            "52    120.0\n",
            "53     77.0\n",
            "63     75.0\n",
            "70    130.0\n",
            "Name: Tumor_Size, dtype: float64\n",
            "57      49.0\n",
            "227     42.0\n",
            "289     41.0\n",
            "290     39.0\n",
            "303     46.0\n",
            "394     40.0\n",
            "418     39.0\n",
            "490     51.0\n",
            "526     44.0\n",
            "530     38.0\n",
            "550     47.0\n",
            "602     40.0\n",
            "633     54.0\n",
            "662     39.0\n",
            "701     36.0\n",
            "790     38.0\n",
            "838     36.0\n",
            "893     38.0\n",
            "941     61.0\n",
            "989     41.0\n",
            "1027    60.0\n",
            "1128    37.0\n",
            "1267    36.0\n",
            "1459    36.0\n",
            "1462    35.0\n",
            "1520    40.0\n",
            "1560    47.0\n",
            "1580    43.0\n",
            "1591    39.0\n",
            "1624    49.0\n",
            "1872    35.0\n",
            "2028    37.0\n",
            "2056    41.0\n",
            "2128    36.0\n",
            "2134    52.0\n",
            "2142    41.0\n",
            "2159    37.0\n",
            "2182    41.0\n",
            "2213    35.0\n",
            "2243    45.0\n",
            "2248    36.0\n",
            "2293    35.0\n",
            "2323    35.0\n",
            "2376    35.0\n",
            "2460    43.0\n",
            "2462    57.0\n",
            "2603    37.0\n",
            "2607    36.0\n",
            "2725    43.0\n",
            "2753    39.0\n",
            "2887    47.0\n",
            "2934    35.0\n",
            "2975    36.0\n",
            "3043    37.0\n",
            "3064    35.0\n",
            "3097    35.0\n",
            "3132    47.0\n",
            "3149    40.0\n",
            "3158    41.0\n",
            "3218    37.0\n",
            "3288    47.0\n",
            "3326    35.0\n",
            "3438    37.0\n",
            "3454    51.0\n",
            "3493    51.0\n",
            "3699    42.0\n",
            "3708    38.0\n",
            "3771    47.0\n",
            "3893    40.0\n",
            "3923    36.0\n",
            "3950    60.0\n",
            "3957    37.0\n",
            "3990    39.0\n",
            "Name: Reginol_Node_Examined, dtype: float64 -6.0 34.0\n",
            "\n",
            "Outliers in Reginol_Node_Examined:\n",
            "Number of outliers: 73\n",
            "Lower bound: -6.0, Upper bound: 34.0\n",
            "Sample of outliers: 57     49.0\n",
            "227    42.0\n",
            "289    41.0\n",
            "290    39.0\n",
            "303    46.0\n",
            "Name: Reginol_Node_Examined, dtype: float64\n",
            "8       18\n",
            "9       12\n",
            "14      14\n",
            "24      22\n",
            "25      17\n",
            "26      23\n",
            "40      12\n",
            "66      23\n",
            "71      20\n",
            "74      16\n",
            "80      13\n",
            "93      16\n",
            "100     24\n",
            "122     16\n",
            "159     14\n",
            "167     17\n",
            "178     14\n",
            "183     13\n",
            "194     13\n",
            "203     12\n",
            "211     12\n",
            "212     17\n",
            "219     27\n",
            "220     13\n",
            "236     21\n",
            "238     26\n",
            "243     15\n",
            "277     17\n",
            "288     28\n",
            "289     15\n",
            "294     14\n",
            "303     14\n",
            "313     17\n",
            "318     23\n",
            "345     12\n",
            "371     14\n",
            "374     13\n",
            "375     13\n",
            "376     12\n",
            "390     17\n",
            "391     12\n",
            "394     13\n",
            "431     14\n",
            "435     13\n",
            "441     17\n",
            "455     19\n",
            "482     24\n",
            "498     19\n",
            "516     13\n",
            "521     12\n",
            "522     28\n",
            "523     20\n",
            "525     17\n",
            "528     14\n",
            "530     28\n",
            "535     24\n",
            "544     29\n",
            "548     22\n",
            "550     31\n",
            "569     13\n",
            "574     26\n",
            "593     15\n",
            "602     15\n",
            "633     46\n",
            "644     19\n",
            "656     22\n",
            "659     16\n",
            "662     27\n",
            "681     21\n",
            "684     14\n",
            "696     17\n",
            "708     15\n",
            "729     22\n",
            "776     13\n",
            "786     18\n",
            "801     16\n",
            "815     20\n",
            "816     14\n",
            "838     33\n",
            "840     18\n",
            "845     15\n",
            "865     14\n",
            "892     22\n",
            "906     12\n",
            "907     23\n",
            "909     29\n",
            "911     19\n",
            "922     27\n",
            "940     22\n",
            "944     20\n",
            "949     15\n",
            "964     16\n",
            "987     19\n",
            "989     37\n",
            "1004    22\n",
            "1017    16\n",
            "1039    28\n",
            "1040    22\n",
            "1060    18\n",
            "1061    17\n",
            "1069    17\n",
            "1081    20\n",
            "1089    15\n",
            "1092    17\n",
            "1095    16\n",
            "1106    14\n",
            "1107    22\n",
            "1116    24\n",
            "1119    15\n",
            "1120    30\n",
            "1128    37\n",
            "1179    12\n",
            "1199    27\n",
            "1211    22\n",
            "1246    26\n",
            "1257    18\n",
            "1261    20\n",
            "1265    13\n",
            "1267    35\n",
            "1278    22\n",
            "1307    16\n",
            "1320    12\n",
            "1329    15\n",
            "1334    12\n",
            "1378    16\n",
            "1382    25\n",
            "1384    14\n",
            "1388    17\n",
            "1391    13\n",
            "1411    24\n",
            "1417    15\n",
            "1430    20\n",
            "1433    16\n",
            "1441    13\n",
            "1443    17\n",
            "1452    19\n",
            "1459    16\n",
            "1460    19\n",
            "1509    13\n",
            "1516    22\n",
            "1531    12\n",
            "1534    12\n",
            "1536    19\n",
            "1539    14\n",
            "1540    15\n",
            "1541    13\n",
            "1562    14\n",
            "1566    16\n",
            "1567    29\n",
            "1604    21\n",
            "1614    17\n",
            "1628    17\n",
            "1667    29\n",
            "1683    13\n",
            "1690    15\n",
            "1700    13\n",
            "1711    25\n",
            "1731    21\n",
            "1746    18\n",
            "1754    17\n",
            "1790    21\n",
            "1799    12\n",
            "1807    12\n",
            "1833    19\n",
            "1861    16\n",
            "1872    26\n",
            "1907    16\n",
            "1928    18\n",
            "1935    23\n",
            "1972    17\n",
            "1979    13\n",
            "1992    15\n",
            "1994    12\n",
            "2014    14\n",
            "2024    14\n",
            "2025    12\n",
            "2028    29\n",
            "2031    27\n",
            "2032    22\n",
            "2036    19\n",
            "2037    14\n",
            "2038    12\n",
            "2058    18\n",
            "2067    15\n",
            "2118    12\n",
            "2136    16\n",
            "2142    32\n",
            "2148    14\n",
            "2181    14\n",
            "2182    41\n",
            "2183    15\n",
            "2198    12\n",
            "2238    12\n",
            "2241    16\n",
            "2242    12\n",
            "2244    16\n",
            "2278    15\n",
            "2279    12\n",
            "2281    18\n",
            "2285    17\n",
            "2287    26\n",
            "2293    28\n",
            "2318    13\n",
            "2322    18\n",
            "2339    12\n",
            "2344    14\n",
            "2350    12\n",
            "2358    17\n",
            "2359    21\n",
            "2362    18\n",
            "2366    20\n",
            "2378    14\n",
            "2425    28\n",
            "2462    14\n",
            "2489    16\n",
            "2495    19\n",
            "2525    15\n",
            "2528    15\n",
            "2533    13\n",
            "2546    21\n",
            "2558    18\n",
            "2568    26\n",
            "2609    16\n",
            "2626    12\n",
            "2638    28\n",
            "2686    14\n",
            "2700    19\n",
            "2712    12\n",
            "2715    13\n",
            "2739    15\n",
            "2755    26\n",
            "2760    17\n",
            "2761    16\n",
            "2763    15\n",
            "2766    17\n",
            "2767    17\n",
            "2789    16\n",
            "2806    12\n",
            "2807    19\n",
            "2824    21\n",
            "2830    16\n",
            "2843    13\n",
            "2853    19\n",
            "2878    13\n",
            "2882    23\n",
            "2900    16\n",
            "2903    16\n",
            "2909    20\n",
            "2928    30\n",
            "2932    12\n",
            "2934    34\n",
            "2966    21\n",
            "2988    14\n",
            "2995    19\n",
            "2997    14\n",
            "3003    14\n",
            "3007    15\n",
            "3014    12\n",
            "3017    34\n",
            "3030    17\n",
            "3033    12\n",
            "3068    12\n",
            "3077    13\n",
            "3082    22\n",
            "3083    12\n",
            "3108    16\n",
            "3119    12\n",
            "3156    12\n",
            "3172    17\n",
            "3177    12\n",
            "3206    17\n",
            "3221    18\n",
            "3225    13\n",
            "3230    14\n",
            "3244    12\n",
            "3245    21\n",
            "3265    33\n",
            "3267    21\n",
            "3284    15\n",
            "3324    14\n",
            "3326    20\n",
            "3327    23\n",
            "3330    19\n",
            "3333    12\n",
            "3346    14\n",
            "3365    12\n",
            "3366    14\n",
            "3392    16\n",
            "3393    12\n",
            "3401    24\n",
            "3446    12\n",
            "3476    12\n",
            "3497    13\n",
            "3520    13\n",
            "3536    18\n",
            "3538    14\n",
            "3539    19\n",
            "3554    14\n",
            "3569    14\n",
            "3582    18\n",
            "3601    24\n",
            "3608    14\n",
            "3620    14\n",
            "3637    13\n",
            "3646    26\n",
            "3663    16\n",
            "3677    26\n",
            "3686    19\n",
            "3699    21\n",
            "3708    21\n",
            "3722    15\n",
            "3734    14\n",
            "3741    22\n",
            "3745    15\n",
            "3760    12\n",
            "3771    23\n",
            "3787    12\n",
            "3812    22\n",
            "3822    26\n",
            "3827    13\n",
            "3836    12\n",
            "3838    19\n",
            "3840    24\n",
            "3852    15\n",
            "3868    14\n",
            "3871    12\n",
            "3880    13\n",
            "3882    19\n",
            "3887    12\n",
            "3893    32\n",
            "3898    29\n",
            "3910    12\n",
            "3915    25\n",
            "3923    14\n",
            "3933    13\n",
            "3942    16\n",
            "3950    19\n",
            "3960    27\n",
            "3967    14\n",
            "3974    13\n",
            "3985    19\n",
            "3992    19\n",
            "3995    14\n",
            "4012    12\n",
            "Name: Reginol_Node_Positive, dtype: int64 -5.0 11.0\n",
            "\n",
            "Outliers in Reginol_Node_Positive:\n",
            "Number of outliers: 344\n",
            "Lower bound: -5.0, Upper bound: 11.0\n",
            "Sample of outliers: 8     18\n",
            "9     12\n",
            "14    14\n",
            "24    22\n",
            "25    17\n",
            "Name: Reginol_Node_Positive, dtype: int64\n",
            "374     760\n",
            "414       3\n",
            "679       4\n",
            "721       3\n",
            "896       4\n",
            "921       1\n",
            "928       3\n",
            "1042      4\n",
            "1156      2\n",
            "1702      4\n",
            "1709      3\n",
            "1731      4\n",
            "1751      2\n",
            "1893      4\n",
            "2230      2\n",
            "2410      4\n",
            "3089      4\n",
            "3474      4\n",
            "3803      4\n",
            "Name: Survival_Months, dtype: int64 5.0 141.0\n",
            "\n",
            "Outliers in Survival_Months:\n",
            "Number of outliers: 19\n",
            "Lower bound: 5.0, Upper bound: 141.0\n",
            "Sample of outliers: 374    760\n",
            "414      3\n",
            "679      4\n",
            "721      3\n",
            "896      4\n",
            "Name: Survival_Months, dtype: int64\n"
          ]
        }
      ]
    },
    {
      "cell_type": "code",
      "source": [
        "# Define numerical features to check\n",
        "numerical_features_to_check = ['Age', 'Grade', 'Tumor_Size',\n",
        "                             'Reginol_Node_Examined', 'Reginol_Node_Positive', 'Survival_Months']"
      ],
      "metadata": {
        "id": "1MCkM4bPZXqv"
      },
      "execution_count": 21,
      "outputs": []
    },
    {
      "cell_type": "code",
      "source": [
        " # Print statistics before outlier handling\n",
        "stats_before = data[numerical_features_to_check].describe()\n",
        "print(\"Statistics before outlier handling:\")\n",
        "print(stats_before)"
      ],
      "metadata": {
        "colab": {
          "base_uri": "https://localhost:8080/"
        },
        "id": "wC7nRMvOZKbf",
        "outputId": "dfab66a5-fbdb-4d86-eec5-4e0cdbb29dc8"
      },
      "execution_count": 22,
      "outputs": [
        {
          "output_type": "stream",
          "name": "stdout",
          "text": [
            "Statistics before outlier handling:\n",
            "               Age        Grade   Tumor_Size  Reginol_Node_Examined  Reginol_Node_Positive  Survival_Months\n",
            "count  4015.000000  4024.000000  4021.000000            4023.000000            4024.000000      4024.000000\n",
            "mean     54.107098     2.150596    30.419299              14.373602               4.158052        71.472167\n",
            "std      11.715528     0.638234    21.161080               8.129293               5.109331        25.361855\n",
            "min     -50.000000     1.000000   -75.000000               1.000000               1.000000         1.000000\n",
            "25%      47.000000     2.000000    16.000000               9.000000               1.000000        56.000000\n",
            "50%      54.000000     2.000000    25.000000              14.000000               2.000000        73.000000\n",
            "75%      61.000000     3.000000    38.000000              19.000000               5.000000        90.000000\n",
            "max     502.000000     4.000000   140.000000              61.000000              46.000000       760.000000\n"
          ]
        }
      ]
    },
    {
      "cell_type": "code",
      "source": [
        "# Function to identify outliers using IQR method\n",
        "def detect_outliers_iqr(df, column, multiplier=1.5):\n",
        "    Q1 = df[column].quantile(0.25)\n",
        "    Q3 = df[column].quantile(0.75)\n",
        "    IQR = Q3 - Q1\n",
        "    lower_bound = Q1 - multiplier * IQR\n",
        "    upper_bound = Q3 + multiplier * IQR\n",
        "    outliers = df[(df[column] < lower_bound) | (df[column] > upper_bound)]\n",
        "    return outliers, lower_bound, upper_bound"
      ],
      "metadata": {
        "id": "7O0zUG6Nannh"
      },
      "execution_count": 23,
      "outputs": []
    },
    {
      "cell_type": "code",
      "source": [
        "# Handle outliers\n",
        "# Age outliers - remove extreme outliers (-50 and 500)\n",
        "data = data[(data['Age'] >= 0) & (data['Age'] <= 120)]"
      ],
      "metadata": {
        "id": "-oOxBcPWZn3i"
      },
      "execution_count": 24,
      "outputs": []
    },
    {
      "cell_type": "code",
      "source": [
        "# Tumor Size outliers\n",
        "Q1 = data['Tumor_Size'].quantile(0.25)\n",
        "Q3 = data['Tumor_Size'].quantile(0.75)\n",
        "IQR = Q3 - Q1\n",
        "lower_bound = Q1 - 1.5 * IQR\n",
        "upper_bound = Q3 + 1.5 * IQR\n",
        "data['Tumor_Size'] = data['Tumor_Size'].clip(lower_bound, upper_bound)"
      ],
      "metadata": {
        "id": "RfGdoHlvZudF"
      },
      "execution_count": 25,
      "outputs": []
    },
    {
      "cell_type": "code",
      "source": [
        "# Handle Survival_Months outliers\n",
        "print(\"\\n---- Handling Survival_Months Outliers ----\")\n",
        "survival_outliers, survival_lower, survival_upper = detect_outliers_iqr(data, 'Survival_Months')\n",
        "print(f\"Survival_Months outliers detected: {len(survival_outliers)}\")\n",
        "print(f\"IQR Boundaries - Lower: {survival_lower:.2f}, Upper: {survival_upper:.2f}\")\n"
      ],
      "metadata": {
        "colab": {
          "base_uri": "https://localhost:8080/"
        },
        "id": "r1iNGk5AZx0k",
        "outputId": "d5db9700-9efe-4e4a-8a76-fec093a6e5f7"
      },
      "execution_count": 26,
      "outputs": [
        {
          "output_type": "stream",
          "name": "stdout",
          "text": [
            "\n",
            "---- Handling Survival_Months Outliers ----\n",
            "Survival_Months outliers detected: 19\n",
            "IQR Boundaries - Lower: 5.00, Upper: 141.00\n"
          ]
        }
      ]
    },
    {
      "cell_type": "code",
      "source": [
        "# Handle survival months outliers using domain knowledge\n",
        "print(f\"Survival_Months range before handling: {data['Survival_Months'].min()} to {data['Survival_Months'].max()}\")\n",
        "data.loc[data['Survival_Months'] < 0, 'Survival_Months'] = 0  # Survival months can't be negative\n",
        "data.loc[data['Survival_Months'] > 120, 'Survival_Months'] = 120  # Limit to 10 years (realistic follow-up period)\n",
        "print(f\"Survival_Months range after handling: {data['Survival_Months'].min()} to {data['Survival_Months'].max()}\")"
      ],
      "metadata": {
        "colab": {
          "base_uri": "https://localhost:8080/"
        },
        "id": "6LME7soYaqpG",
        "outputId": "bb10c439-748e-4288-e66e-5aef40bf3e88"
      },
      "execution_count": 27,
      "outputs": [
        {
          "output_type": "stream",
          "name": "stdout",
          "text": [
            "Survival_Months range before handling: 1 to 760\n",
            "Survival_Months range after handling: 1 to 120\n"
          ]
        }
      ]
    },
    {
      "cell_type": "code",
      "source": [
        "# Tumor Size outliers\n",
        "Q1 = data['Tumor_Size'].quantile(0.25)\n",
        "Q3 = data['Tumor_Size'].quantile(0.75)\n",
        "IQR = Q3 - Q1\n",
        "lower_bound = Q1 - 1.5 * IQR\n",
        "upper_bound = Q3 + 1.5 * IQR\n",
        "data['Tumor_Size'] = data['Tumor_Size'].clip(lower_bound, upper_bound)"
      ],
      "metadata": {
        "id": "pSWuZkPba0Kt"
      },
      "execution_count": 28,
      "outputs": []
    },
    {
      "cell_type": "code",
      "source": [
        "\n",
        "Q1 = data['Tumor_Size'].quantile(0.25)\n",
        "Q3 = data['Tumor_Size'].quantile(0.75)\n",
        "IQR = Q3 - Q1\n",
        "lower_bound = Q1 - 1.5 * IQR\n",
        "upper_bound = Q3 + 1.5 * IQR\n",
        "data['Tumor_Size'] = data['Tumor_Size'].clip(lower_bound, upper_bound)"
      ],
      "metadata": {
        "id": "lX_0D3jRa7I-"
      },
      "execution_count": 29,
      "outputs": []
    },
    {
      "cell_type": "code",
      "source": [
        "# Handle Reginol_Node_Positive and Reginol_Node_Examined\n",
        "# First, create a new feature combining these two\n",
        "# Use a ratio: Positive nodes / Examined nodes\n",
        "# Handle division by zero with np.where\n",
        "data['Node_Positivity_Ratio'] = np.where(\n",
        "    data['Reginol_Node_Examined'] > 0,\n",
        "    data['Reginol_Node_Positive'] / data['Reginol_Node_Examined'],\n",
        "    0  # If no nodes were examined, set ratio to 0\n",
        ")"
      ],
      "metadata": {
        "id": "1cqVC-s5bRIS"
      },
      "execution_count": 30,
      "outputs": []
    },
    {
      "cell_type": "code",
      "source": [
        "# Cap the ratio at 1.0 (it shouldn't exceed 1.0 logically as you can't have more positive nodes than examined)\n",
        "data['Node_Positivity_Ratio'] = data['Node_Positivity_Ratio'].clip(0, 1.0)"
      ],
      "metadata": {
        "id": "fEAbFxxSb-ax"
      },
      "execution_count": 31,
      "outputs": []
    },
    {
      "cell_type": "code",
      "source": [
        "# Now drop the original two columns\n",
        "data = data.drop(columns=['Reginol_Node_Positive', 'Reginol_Node_Examined'])\n"
      ],
      "metadata": {
        "id": "AHyas9lhcBk9"
      },
      "execution_count": 32,
      "outputs": []
    },
    {
      "cell_type": "code",
      "source": [
        "# Update data_cleaned to match\n",
        "data_cleaned = data.drop(columns=['Month_of_Birth','Patient_ID', 'Sex', 'Occupation'])"
      ],
      "metadata": {
        "id": "gqm3wKXScs-h"
      },
      "execution_count": 33,
      "outputs": []
    },
    {
      "cell_type": "code",
      "source": [
        "\n",
        "# Update numerical variables list for analysis\n",
        "numerical_vars = ['Age', 'Tumor_Size', 'Node_Positivity_Ratio', 'Survival_Months','Grade']"
      ],
      "metadata": {
        "id": "Keeydr5Tcwxn"
      },
      "execution_count": 34,
      "outputs": []
    },
    {
      "cell_type": "code",
      "source": [
        "# General function to cap outliers\n",
        "def cap_outliers_iqr(column):\n",
        "    Q1 = column.quantile(0.25)\n",
        "    Q3 = column.quantile(0.75)\n",
        "    IQR = Q3 - Q1\n",
        "    lower = Q1 - 1.5 * IQR\n",
        "    upper = Q3 + 1.5 * IQR\n",
        "    return column.clip(lower, upper)"
      ],
      "metadata": {
        "id": "Qhp_CHNcc50M"
      },
      "execution_count": 35,
      "outputs": []
    },
    {
      "cell_type": "code",
      "source": [
        "\n",
        "# Count outliers\n",
        "def count_outliers(column):\n",
        "    Q1 = column.quantile(0.25)\n",
        "    Q3 = column.quantile(0.75)\n",
        "    IQR = Q3 - Q1\n",
        "    lower = Q1 - 1.5 * IQR\n",
        "    upper = Q3 + 1.5 * IQR\n",
        "    return ((column < lower) | (column > upper)).sum()\n",
        "\n",
        "for col in ['Age', 'Tumor_Size', 'Survival_Months', 'Node_Positivity_Ratio']:\n",
        "    print(f\"{col}: {count_outliers(data[col])} outliers\")"
      ],
      "metadata": {
        "colab": {
          "base_uri": "https://localhost:8080/"
        },
        "id": "6R1fJS9Lc-Nm",
        "outputId": "e2ffc419-a302-47e9-8dfd-a635af6570bf"
      },
      "execution_count": 36,
      "outputs": [
        {
          "output_type": "stream",
          "name": "stdout",
          "text": [
            "Age: 1 outliers\n",
            "Tumor_Size: 0 outliers\n",
            "Survival_Months: 18 outliers\n",
            "Node_Positivity_Ratio: 0 outliers\n"
          ]
        }
      ]
    },
    {
      "cell_type": "code",
      "source": [
        "# Print statistics after outlier handling\n",
        "stats_after = data[numerical_vars].describe()\n",
        "print(\"\\nStatistics after outlier handling:\")\n",
        "print(stats_after)\n"
      ],
      "metadata": {
        "colab": {
          "base_uri": "https://localhost:8080/"
        },
        "id": "yhR4IwkMdH3j",
        "outputId": "39668459-f22c-4085-d626-39ac68c69108"
      },
      "execution_count": 37,
      "outputs": [
        {
          "output_type": "stream",
          "name": "stdout",
          "text": [
            "\n",
            "Statistics after outlier handling:\n",
            "               Age   Tumor_Size  Node_Positivity_Ratio  Survival_Months        Grade\n",
            "count  4012.000000  4009.000000            4012.000000      4012.000000  4012.000000\n",
            "mean     53.990030    29.301322               0.325832        71.289133     2.150798\n",
            "std       8.981901    17.739099               0.286658        22.931280     0.638218\n",
            "min      30.000000   -17.000000               0.000000         1.000000     1.000000\n",
            "25%      47.000000    16.000000               0.100000        56.000000     2.000000\n",
            "50%      54.000000    25.000000               0.214286        73.000000     2.000000\n",
            "75%      61.000000    38.000000               0.500000        90.000000     3.000000\n",
            "max      89.000000    71.000000               1.000000       120.000000     4.000000\n"
          ]
        }
      ]
    },
    {
      "cell_type": "code",
      "source": [
        "# Handle missing values\n",
        "missing_columns = data_cleaned.columns[data_cleaned.isnull().any()].tolist()\n",
        "print(\"\\nColumns with missing values:\", missing_columns)\n",
        "\n",
        "for col in missing_columns:\n",
        "    col_mean = data_cleaned[col].mean()\n",
        "    data_cleaned[col].fillna(col_mean, inplace=True)\n",
        "    print(f\"Imputed missing values in {col} with mean: {col_mean}\")\n",
        "\n",
        "print(\"\\nMissing values after imputation:\")\n",
        "print(data_cleaned.isnull().sum())"
      ],
      "metadata": {
        "colab": {
          "base_uri": "https://localhost:8080/"
        },
        "id": "CqfMPd4vdjr2",
        "outputId": "1e1c6954-3f98-4b22-fd9c-284e538c7ca2"
      },
      "execution_count": 38,
      "outputs": [
        {
          "output_type": "stream",
          "name": "stdout",
          "text": [
            "\n",
            "Columns with missing values: ['Tumor_Size']\n",
            "Imputed missing values in Tumor_Size with mean: 29.301322025442754\n",
            "\n",
            "Missing values after imputation:\n",
            "Age                      0\n",
            "T_Stage                  0\n",
            "N_Stage                  0\n",
            "6th_Stage                0\n",
            "Differentiated           0\n",
            "Grade                    0\n",
            "A_Stage                  0\n",
            "Tumor_Size               0\n",
            "Estrogen_Status          0\n",
            "Progesterone_Status      0\n",
            "Survival_Months          0\n",
            "Mortality_Status         0\n",
            "Node_Positivity_Ratio    0\n",
            "dtype: int64\n"
          ]
        }
      ]
    },
    {
      "cell_type": "code",
      "source": [
        "# Encode Mortality Status\n",
        "mortality_status_mapping = {'DEAD': 1, 'Dead': 1, 'DEAD ': 1, 'Alive': 0, 'ALIVE': 0, 'alive': 0}\n",
        "data_cleaned['Mortality_Status'] = data_cleaned['Mortality_Status'].map(mortality_status_mapping)\n",
        "print(\"\\nMortality Status mapping completed:\")\n",
        "print(data_cleaned['Mortality_Status'].value_counts())"
      ],
      "metadata": {
        "colab": {
          "base_uri": "https://localhost:8080/"
        },
        "id": "ftPLq_OUdsYl",
        "outputId": "5a3ad344-fafa-4f40-ff8b-45499a14de48"
      },
      "execution_count": 39,
      "outputs": [
        {
          "output_type": "stream",
          "name": "stdout",
          "text": [
            "\n",
            "Mortality Status mapping completed:\n",
            "Mortality_Status\n",
            "0.0    3397\n",
            "1.0     606\n",
            "Name: count, dtype: int64\n"
          ]
        }
      ]
    },
    {
      "cell_type": "code",
      "source": [
        "# Encode remaining categorical variables\n",
        "print(\"\\nStep 7: Encoding categorical variables\")\n",
        "categorical_cols = data_cleaned.select_dtypes(include=['object']).columns\n",
        "print(f\"Categorical columns: {list(categorical_cols)}\")"
      ],
      "metadata": {
        "colab": {
          "base_uri": "https://localhost:8080/"
        },
        "id": "5YpKygGidvXz",
        "outputId": "d8c3a3cc-445f-400b-f13a-fb93bf13ce7d"
      },
      "execution_count": 40,
      "outputs": [
        {
          "output_type": "stream",
          "name": "stdout",
          "text": [
            "\n",
            "Step 7: Encoding categorical variables\n",
            "Categorical columns: ['T_Stage', 'N_Stage', '6th_Stage', 'Differentiated', 'A_Stage', 'Estrogen_Status', 'Progesterone_Status']\n"
          ]
        }
      ]
    },
    {
      "cell_type": "code",
      "source": [
        "\n",
        "column_mappings = {'Mortality Status': mortality_status_mapping}\n",
        "# Label encoding for categorical columns\n",
        "for col in categorical_cols:\n",
        "    le = LabelEncoder()\n",
        "    unique_vals = data_cleaned[col].unique()\n",
        "    data_cleaned[col] = le.fit_transform(data_cleaned[col])\n",
        "    mapping = {original: encoded for original, encoded in zip(unique_vals, le.transform(unique_vals))}\n",
        "    column_mappings[col] = mapping\n",
        "    print(f\"\\nMapping for {col}:\")\n",
        "    print(mapping)\n"
      ],
      "metadata": {
        "colab": {
          "base_uri": "https://localhost:8080/"
        },
        "id": "k1K2kGGwdxke",
        "outputId": "6bcd2fdf-c86a-483f-b80d-09427d55620e"
      },
      "execution_count": 41,
      "outputs": [
        {
          "output_type": "stream",
          "name": "stdout",
          "text": [
            "\n",
            "Mapping for T_Stage:\n",
            "{'T1': np.int64(0), 'T2': np.int64(1), 'T3': np.int64(2), 'T4': np.int64(3)}\n",
            "\n",
            "Mapping for N_Stage:\n",
            "{'N1': np.int64(0), 'N2': np.int64(1), 'N3': np.int64(2)}\n",
            "\n",
            "Mapping for 6th_Stage:\n",
            "{'IIA': np.int64(0), 'IIIA': np.int64(2), 'IIIC': np.int64(4), 'IIB': np.int64(1), 'IIIB': np.int64(3)}\n",
            "\n",
            "Mapping for Differentiated:\n",
            "{'Poorly differentiated': np.int64(1), 'Moderately differentiated': np.int64(0), 'Well differentiated': np.int64(3), 'Undifferentiated': np.int64(2)}\n",
            "\n",
            "Mapping for A_Stage:\n",
            "{'Regional': np.int64(1), 'Distant': np.int64(0)}\n",
            "\n",
            "Mapping for Estrogen_Status:\n",
            "{'Positive': np.int64(1), 'Negative': np.int64(0)}\n",
            "\n",
            "Mapping for Progesterone_Status:\n",
            "{'Positive': np.int64(1), 'Negative': np.int64(0)}\n"
          ]
        }
      ]
    },
    {
      "cell_type": "code",
      "source": [
        "# Prepare datasets for classification and regression\n",
        "classification_data = data_cleaned.copy()\n",
        "print(\"\\nClassification dataset shape:\", classification_data.shape)"
      ],
      "metadata": {
        "colab": {
          "base_uri": "https://localhost:8080/"
        },
        "id": "xDKJBhghd0V7",
        "outputId": "4a27685c-10a6-4af8-e04a-56f4af87ecee"
      },
      "execution_count": 42,
      "outputs": [
        {
          "output_type": "stream",
          "name": "stdout",
          "text": [
            "\n",
            "Classification dataset shape: (4012, 13)\n"
          ]
        }
      ]
    },
    {
      "cell_type": "code",
      "source": [
        "# Filter for regression dataset (only deceased patients)\n",
        "mortality_status_numeric = 1\n",
        "regression_data = data_cleaned[data_cleaned['Mortality_Status'] == mortality_status_numeric].copy()\n",
        "# Drop the Mortality_Status column\n",
        "regression_data.drop('Mortality_Status', axis=1, inplace=True)\n",
        "print(\"\\nRegression dataset shape:\", regression_data.shape)"
      ],
      "metadata": {
        "colab": {
          "base_uri": "https://localhost:8080/"
        },
        "id": "J_p0cKMQd2p4",
        "outputId": "96977cfd-d5ea-4b6d-c9c7-87a490ee7d61"
      },
      "execution_count": 46,
      "outputs": [
        {
          "output_type": "stream",
          "name": "stdout",
          "text": [
            "\n",
            "Regression dataset shape: (606, 12)\n"
          ]
        }
      ]
    },
    {
      "cell_type": "code",
      "source": [
        "print(\"\\nColumn names in regression dataset:\", regression_data.columns.tolist())\n"
      ],
      "metadata": {
        "colab": {
          "base_uri": "https://localhost:8080/"
        },
        "id": "tw8PVvs9xHbw",
        "outputId": "dd87052e-d4da-436d-fc7e-ba86d714a74c"
      },
      "execution_count": 47,
      "outputs": [
        {
          "output_type": "stream",
          "name": "stdout",
          "text": [
            "\n",
            "Column names in regression dataset: ['Age', 'T_Stage', 'N_Stage', '6th_Stage', 'Differentiated', 'Grade', 'A_Stage', 'Tumor_Size', 'Estrogen_Status', 'Progesterone_Status', 'Survival_Months', 'Node_Positivity_Ratio']\n"
          ]
        }
      ]
    },
    {
      "cell_type": "code",
      "source": [
        "\n",
        "# FEATURE SCALING WITH STANDARDSCALER\n",
        "# For classification dataset\n",
        "features_to_scale = [col for col in classification_data.columns if col != 'Mortality_Status']\n",
        "scaler_classification = StandardScaler()\n",
        "classification_data[features_to_scale] = scaler_classification.fit_transform(classification_data[features_to_scale])"
      ],
      "metadata": {
        "id": "UkcX3vrXd5Te"
      },
      "execution_count": 61,
      "outputs": []
    },
    {
      "cell_type": "code",
      "source": [
        "# For regression dataset\n",
        "#  'Survival_Months' is the target variable for regression\n",
        "regression_features = [col for col in regression_data.columns if col != 'Survival_Months']\n",
        "regression_target = regression_data['Survival_Months']\n",
        "scaler_regression = StandardScaler()\n",
        "regression_data[regression_features] = scaler_regression.fit_transform(regression_data[regression_features])"
      ],
      "metadata": {
        "id": "XPohZcOad7me"
      },
      "execution_count": 48,
      "outputs": []
    },
    {
      "cell_type": "code",
      "source": [
        "\n",
        "# Save the processed datasets\n",
        "classification_data.to_csv('classification_data_prepared.csv', index=False)\n",
        "regression_data.to_csv('regression_data_prepared.csv', index=False)\n",
        "print(\"\\nDatasets have been saved successfully for classification and regression tasks.\")"
      ],
      "metadata": {
        "colab": {
          "base_uri": "https://localhost:8080/"
        },
        "id": "WBRtY1iWd-9G",
        "outputId": "3f4cc741-ac3b-41c6-fe34-6d8557f70444"
      },
      "execution_count": 49,
      "outputs": [
        {
          "output_type": "stream",
          "name": "stdout",
          "text": [
            "\n",
            "Datasets have been saved successfully for classification and regression tasks.\n"
          ]
        }
      ]
    },
    {
      "cell_type": "code",
      "source": [
        "# Display final descriptive statistics\n",
        "print(\"\\nFinal descriptive statistics for classification dataset after scaling:\")\n",
        "print(classification_data.describe())\n"
      ],
      "metadata": {
        "colab": {
          "base_uri": "https://localhost:8080/"
        },
        "id": "VAFpKZaReBiS",
        "outputId": "77d8d4e9-a1f2-41a3-d0fb-bc8c69426258"
      },
      "execution_count": 50,
      "outputs": [
        {
          "output_type": "stream",
          "name": "stdout",
          "text": [
            "\n",
            "Final descriptive statistics for classification dataset after scaling:\n",
            "               Age      T_Stage      N_Stage    6th_Stage  Differentiated        Grade      A_Stage   Tumor_Size  Estrogen_Status  \\\n",
            "count  4012.000000  4012.000000  4012.000000  4012.000000     4012.000000  4012.000000  4012.000000  4012.000000      4012.000000   \n",
            "mean     53.990030     0.784397     0.437687     1.320788        0.690179     2.150798     0.977567    29.301322         0.932951   \n",
            "std       8.981901     0.764864     0.692846     1.265556        1.016186     0.638218     0.148105    17.732464         0.250138   \n",
            "min      30.000000     0.000000     0.000000     0.000000        0.000000     1.000000     0.000000   -17.000000         0.000000   \n",
            "25%      47.000000     0.000000     0.000000     0.000000        0.000000     2.000000     1.000000    16.000000         1.000000   \n",
            "50%      54.000000     1.000000     0.000000     1.000000        0.000000     2.000000     1.000000    25.000000         1.000000   \n",
            "75%      61.000000     1.000000     1.000000     2.000000        1.000000     3.000000     1.000000    38.000000         1.000000   \n",
            "max      89.000000     3.000000     2.000000     4.000000        3.000000     4.000000     1.000000    71.000000         1.000000   \n",
            "\n",
            "       Progesterone_Status  Survival_Months  Mortality_Status  Node_Positivity_Ratio  \n",
            "count          4012.000000      4012.000000       4003.000000            4012.000000  \n",
            "mean              0.826770        71.289133          0.151386               0.325832  \n",
            "std               0.378493        22.931280          0.358470               0.286658  \n",
            "min               0.000000         1.000000          0.000000               0.000000  \n",
            "25%               1.000000        56.000000          0.000000               0.100000  \n",
            "50%               1.000000        73.000000          0.000000               0.214286  \n",
            "75%               1.000000        90.000000          0.000000               0.500000  \n",
            "max               1.000000       120.000000          1.000000               1.000000  \n"
          ]
        }
      ]
    },
    {
      "cell_type": "code",
      "source": [
        "\n",
        "print(\"\\nFinal descriptive statistics for regression dataset after scaling:\")\n",
        "print(regression_data.describe())"
      ],
      "metadata": {
        "colab": {
          "base_uri": "https://localhost:8080/"
        },
        "id": "qchWK0cueHug",
        "outputId": "74a7b78d-cc11-444e-cca1-e176defc7e05"
      },
      "execution_count": 70,
      "outputs": [
        {
          "output_type": "stream",
          "name": "stdout",
          "text": [
            "\n",
            "Final descriptive statistics for regression dataset after scaling:\n",
            "                Age       T_Stage       N_Stage     6th_Stage  Differentiated         Grade       A_Stage    Tumor_Size  Estrogen_Status  \\\n",
            "count  6.060000e+02  6.060000e+02  6.060000e+02  6.060000e+02    6.060000e+02  6.060000e+02  6.060000e+02  6.060000e+02     6.060000e+02   \n",
            "mean   2.051897e-17 -1.172513e-17 -2.931282e-17  2.931282e-18   -1.465641e-17  2.638154e-17  1.832051e-17 -1.758769e-17     2.931282e-17   \n",
            "std    1.000826e+00  1.000826e+00  1.000826e+00  1.000826e+00    1.000826e+00  1.000826e+00  1.000826e+00  1.000826e+00     1.000826e+00   \n",
            "min   -2.611234e+00 -1.269088e+00 -1.013313e+00 -1.457239e+00   -8.145449e-01 -2.224876e+00 -4.166970e+00 -1.788730e+00    -2.184360e+00   \n",
            "25%   -7.490909e-01 -1.269088e+00 -1.013313e+00 -7.585943e-01   -8.145449e-01 -6.330520e-01  2.399825e-01 -7.875908e-01     4.578000e-01   \n",
            "50%    1.819806e-01 -6.929498e-02  1.721458e-01 -5.994970e-02    4.414709e-01 -6.330520e-01  2.399825e-01 -2.606754e-01     4.578000e-01   \n",
            "75%    8.026950e-01 -6.929498e-02  1.357604e+00  1.337340e+00    4.414709e-01  9.587717e-01  2.399825e-01  7.799827e-01     4.578000e-01   \n",
            "max    1.423409e+00  2.330291e+00  1.357604e+00  1.337340e+00    2.953503e+00  2.550595e+00  2.399825e-01  1.899678e+00     4.578000e-01   \n",
            "\n",
            "       Progesterone_Status  Survival_Months  Mortality_Status  Node_Positivity_Ratio  \n",
            "count         6.060000e+02     6.060000e+02             606.0           6.060000e+02  \n",
            "mean          1.758769e-17    -1.275108e-16               0.0           2.345026e-17  \n",
            "std           1.000826e+00     1.000826e+00               0.0           1.000826e+00  \n",
            "min          -1.424781e+00    -1.815408e+00               0.0          -1.387211e+00  \n",
            "25%          -1.424781e+00    -7.736113e-01               0.0          -9.131290e-01  \n",
            "50%           7.018624e-01    -6.518964e-02               0.0          -1.732723e-01  \n",
            "75%           7.018624e-01     6.432320e-01               0.0           9.461580e-01  \n",
            "max           7.018624e-01     2.351778e+00               0.0           1.554010e+00  \n"
          ]
        }
      ]
    }
  ]
}